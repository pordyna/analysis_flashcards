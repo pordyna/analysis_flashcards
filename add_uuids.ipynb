{
 "cells": [
  {
   "cell_type": "code",
   "execution_count": 1,
   "metadata": {
    "ExecuteTime": {
     "end_time": "2018-09-05T16:02:26.008994Z",
     "start_time": "2018-09-05T16:02:26.003676Z"
    }
   },
   "outputs": [],
   "source": [
    "import uuid\n",
    "import codecs\n",
    "from tempfile import mkstemp\n",
    "from shutil import move\n",
    "from os import remove"
   ]
  },
  {
   "cell_type": "code",
   "execution_count": 2,
   "metadata": {
    "ExecuteTime": {
     "end_time": "2018-09-05T16:02:26.591483Z",
     "start_time": "2018-09-05T16:02:26.588370Z"
    }
   },
   "outputs": [],
   "source": [
    "path_to_file = '/home/pawel/Documents/Mathe II/Anki/mathe_ii_6.tex'"
   ]
  },
  {
   "cell_type": "code",
   "execution_count": 3,
   "metadata": {
    "ExecuteTime": {
     "end_time": "2018-09-05T16:02:27.204293Z",
     "start_time": "2018-09-05T16:02:27.197476Z"
    }
   },
   "outputs": [],
   "source": [
    "fh, path_to_target = mkstemp()"
   ]
  },
  {
   "cell_type": "code",
   "execution_count": 4,
   "metadata": {
    "ExecuteTime": {
     "end_time": "2018-09-05T16:02:27.722339Z",
     "start_time": "2018-09-05T16:02:27.702678Z"
    }
   },
   "outputs": [],
   "source": [
    "with open(path_to_target, 'w', encoding='utf8') as target:\n",
    "    with open(path_to_file, 'r', encoding='utf8') as source:\n",
    "        for line in source:\n",
    "            target.write(line.replace('xplain{UUID}', 'xplain{' + str(uuid.uuid4()) + '}'))"
   ]
  },
  {
   "cell_type": "code",
   "execution_count": 5,
   "metadata": {
    "ExecuteTime": {
     "end_time": "2018-09-05T16:02:28.213831Z",
     "start_time": "2018-09-05T16:02:28.209162Z"
    }
   },
   "outputs": [],
   "source": [
    "remove(path_to_file)"
   ]
  },
  {
   "cell_type": "code",
   "execution_count": 6,
   "metadata": {
    "ExecuteTime": {
     "end_time": "2018-09-05T16:02:42.026023Z",
     "start_time": "2018-09-05T16:02:42.003118Z"
    }
   },
   "outputs": [
    {
     "data": {
      "text/plain": [
       "'/home/pawel/Documents/Mathe II/Anki/mathe_ii_6.tex'"
      ]
     },
     "execution_count": 6,
     "metadata": {},
     "output_type": "execute_result"
    }
   ],
   "source": [
    "move(path_to_target, path_to_file)"
   ]
  },
  {
   "cell_type": "code",
   "execution_count": null,
   "metadata": {},
   "outputs": [],
   "source": []
  },
  {
   "cell_type": "code",
   "execution_count": null,
   "metadata": {},
   "outputs": [],
   "source": []
  },
  {
   "cell_type": "code",
   "execution_count": null,
   "metadata": {},
   "outputs": [],
   "source": []
  }
 ],
 "metadata": {
  "kernelspec": {
   "display_name": "Python 3",
   "language": "python",
   "name": "python3"
  },
  "language_info": {
   "codemirror_mode": {
    "name": "ipython",
    "version": 3
   },
   "file_extension": ".py",
   "mimetype": "text/x-python",
   "name": "python",
   "nbconvert_exporter": "python",
   "pygments_lexer": "ipython3",
   "version": "3.6.6"
  }
 },
 "nbformat": 4,
 "nbformat_minor": 2
}
