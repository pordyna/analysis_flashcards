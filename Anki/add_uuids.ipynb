{
 "cells": [
  {
   "cell_type": "code",
   "execution_count": 22,
   "metadata": {
    "ExecuteTime": {
     "end_time": "2018-09-01T20:22:04.673223Z",
     "start_time": "2018-09-01T20:22:04.662063Z"
    }
   },
   "outputs": [],
   "source": [
    "import uuid\n",
    "import codecs\n",
    "from tempfile import mkstemp\n",
    "from shutil import move\n",
    "from os import remove"
   ]
  },
  {
   "cell_type": "code",
   "execution_count": 31,
   "metadata": {
    "ExecuteTime": {
     "end_time": "2018-09-01T20:22:15.824245Z",
     "start_time": "2018-09-01T20:22:15.820487Z"
    }
   },
   "outputs": [],
   "source": [
    "path_to_file = '/home/pawel/Documents/Mathe II/Anki/mathe_ii_5.tex'"
   ]
  },
  {
   "cell_type": "code",
   "execution_count": 32,
   "metadata": {
    "ExecuteTime": {
     "end_time": "2018-09-01T20:22:16.610800Z",
     "start_time": "2018-09-01T20:22:16.604214Z"
    }
   },
   "outputs": [],
   "source": [
    "fh, path_to_target = mkstemp()"
   ]
  },
  {
   "cell_type": "code",
   "execution_count": 33,
   "metadata": {
    "ExecuteTime": {
     "end_time": "2018-09-01T20:22:17.016636Z",
     "start_time": "2018-09-01T20:22:17.003964Z"
    }
   },
   "outputs": [],
   "source": [
    "with open(path_to_target, 'w', encoding='utf8') as target:\n",
    "    with open(path_to_file, 'r', encoding='utf8') as source:\n",
    "        for line in source:\n",
    "            target.write(line.replace('xplain{UUID}', 'xplain{' + str(uuid.uuid4()) + '}'))"
   ]
  },
  {
   "cell_type": "code",
   "execution_count": 34,
   "metadata": {
    "ExecuteTime": {
     "end_time": "2018-09-01T20:22:17.504710Z",
     "start_time": "2018-09-01T20:22:17.501116Z"
    }
   },
   "outputs": [],
   "source": [
    "remove(path_to_file)"
   ]
  },
  {
   "cell_type": "code",
   "execution_count": 35,
   "metadata": {
    "ExecuteTime": {
     "end_time": "2018-09-01T20:22:18.159044Z",
     "start_time": "2018-09-01T20:22:18.151357Z"
    }
   },
   "outputs": [
    {
     "data": {
      "text/plain": [
       "'/home/pawel/Documents/Mathe II/Anki/mathe_ii_5.tex'"
      ]
     },
     "execution_count": 35,
     "metadata": {},
     "output_type": "execute_result"
    }
   ],
   "source": [
    "move(path_to_target, path_to_file)"
   ]
  },
  {
   "cell_type": "code",
   "execution_count": null,
   "metadata": {},
   "outputs": [],
   "source": []
  },
  {
   "cell_type": "code",
   "execution_count": null,
   "metadata": {},
   "outputs": [],
   "source": []
  },
  {
   "cell_type": "code",
   "execution_count": null,
   "metadata": {},
   "outputs": [],
   "source": []
  }
 ],
 "metadata": {
  "kernelspec": {
   "display_name": "Python 3",
   "language": "python",
   "name": "python3"
  },
  "language_info": {
   "codemirror_mode": {
    "name": "ipython",
    "version": 3
   },
   "file_extension": ".py",
   "mimetype": "text/x-python",
   "name": "python",
   "nbconvert_exporter": "python",
   "pygments_lexer": "ipython3",
   "version": "3.6.6"
  }
 },
 "nbformat": 4,
 "nbformat_minor": 2
}
